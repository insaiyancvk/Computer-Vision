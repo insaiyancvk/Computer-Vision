{
 "cells": [
  {
   "cell_type": "markdown",
   "id": "472634a1",
   "metadata": {},
   "source": [
    "#### Name: C Vamshi Krishna\n",
    "#### Roll no: AM.EN.U4ELC19043"
   ]
  },
  {
   "cell_type": "markdown",
   "id": "67f649a8",
   "metadata": {},
   "source": [
    "### Import required packages"
   ]
  },
  {
   "cell_type": "code",
   "execution_count": 1,
   "id": "16539082",
   "metadata": {},
   "outputs": [],
   "source": [
    "import numpy as np\n",
    "import pandas as pd\n",
    "import matplotlib.pyplot as plt"
   ]
  },
  {
   "cell_type": "markdown",
   "id": "a3e7ea69",
   "metadata": {},
   "source": [
    "### Load and clean the data"
   ]
  },
  {
   "cell_type": "code",
   "execution_count": 2,
   "id": "703fe323",
   "metadata": {},
   "outputs": [],
   "source": [
    "my_data = pd.read_csv('Simple_data_points_for_PNN.csv', sep=',',header=0)\n",
    "cleaned_data = np.array([ my_data['Feature 1'].tolist(),my_data['Feature 2'].tolist()]).T"
   ]
  },
  {
   "cell_type": "code",
   "execution_count": 3,
   "id": "e9c76adf",
   "metadata": {},
   "outputs": [
    {
     "name": "stdout",
     "output_type": "stream",
     "text": [
      "x\ty\n",
      "0.5\t0.9\n",
      "0.2\t0.7\n",
      "0.8\t0.8\n",
      "0.4\t0.5\n",
      "0.8\t0.5\n",
      "0.6\t0.3\n",
      "0.3\t0.2\n"
     ]
    }
   ],
   "source": [
    "print(\"x\\ty\")\n",
    "for i in cleaned_data:\n",
    "    print(f\"{i[0]}\\t{i[1]}\")"
   ]
  },
  {
   "cell_type": "markdown",
   "id": "7b673f01",
   "metadata": {},
   "source": [
    "### Declare some useful variables"
   ]
  },
  {
   "cell_type": "code",
   "execution_count": 4,
   "id": "96168d29",
   "metadata": {},
   "outputs": [],
   "source": [
    "groups = my_data.groupby('Class')\n",
    "number_of_classes = len(groups)\n",
    "dictionary_of_sum = {}\n",
    "numrber_of_features  = 2\n",
    "sigma = 1\n",
    "increament_current_row_in_matrix = 0"
   ]
  },
  {
   "cell_type": "markdown",
   "id": "a9c372f4",
   "metadata": {},
   "source": [
    "### Point that we want to classify"
   ]
  },
  {
   "cell_type": "code",
   "execution_count": 5,
   "id": "a1c4790f",
   "metadata": {},
   "outputs": [],
   "source": [
    "point_want_to_classify = [0.75,0.3]"
   ]
  },
  {
   "cell_type": "markdown",
   "id": "36620427",
   "metadata": {},
   "source": [
    "### Define the PNN"
   ]
  },
  {
   "cell_type": "code",
   "execution_count": 6,
   "id": "eb70d71f",
   "metadata": {},
   "outputs": [],
   "source": [
    "# INPUT LAYER\n",
    "for k in range(1,number_of_classes+1):\n",
    "\n",
    "    dictionary_of_sum[k] = 0\n",
    "    number_of_data_point_from_class_k = len(groups.get_group(k))\n",
    "\n",
    "    # PATTERN LAYER\n",
    "    \n",
    "    # Temporary variable to hold the sum of Gaussian distribution sum\n",
    "    temp_summnation = 0.0\n",
    "\n",
    "    # Loop via number of points in the class\n",
    "    for i in range(1,number_of_data_point_from_class_k+1):\n",
    "\n",
    "        # Getting Gaussians \n",
    "        tempx = (point_want_to_classify[0] - cleaned_data[increament_current_row_in_matrix][0]) * (point_want_to_classify[0] - cleaned_data[increament_current_row_in_matrix][0]) \n",
    "        tempy = (point_want_to_classify[1] - cleaned_data[increament_current_row_in_matrix][1]) * (point_want_to_classify[1] - cleaned_data[increament_current_row_in_matrix][1]) \n",
    "        temp_sum = -1 * (tempx + tempy)\n",
    "        temp_sum = temp_sum/( 2 * np.power(sigma,2) )\n",
    "\n",
    "        # Sum of Gaussians\n",
    "        temp_summnation = temp_summnation + temp_sum\n",
    "\n",
    "        # Row of the matrix to get the next data point\n",
    "        increament_current_row_in_matrix  = increament_current_row_in_matrix + 1\n",
    "\n",
    "    # Probability of current data point belonging to that class\n",
    "    dictionary_of_sum[k]  = temp_summnation "
   ]
  },
  {
   "cell_type": "code",
   "execution_count": 7,
   "id": "6108a3fe",
   "metadata": {},
   "outputs": [
    {
     "data": {
      "text/plain": [
       "'3'"
      ]
     },
     "execution_count": 7,
     "metadata": {},
     "output_type": "execute_result"
    }
   ],
   "source": [
    "# Get the classified class \n",
    "classified_class = str( max(dictionary_of_sum, key=dictionary_of_sum.get) )\n",
    "classified_class"
   ]
  },
  {
   "cell_type": "code",
   "execution_count": 8,
   "id": "14a312cf",
   "metadata": {},
   "outputs": [
    {
     "data": {
      "image/png": "[encoded data removed]",
      "text/plain": [
       "<Figure size 432x288 with 1 Axes>"
      ]
     },
     "metadata": {
      "needs_background": "light"
     },
     "output_type": "display_data"
    }
   ],
   "source": [
    "# Group the data by class \n",
    "groups = my_data.groupby('Class')\n",
    "\n",
    "# Plot\n",
    "fig, ax = plt.subplots()\n",
    "ax.margins(0.05)\n",
    "for name, group in groups:\n",
    "    ax.plot(group['Feature 1'], group['Feature 2'], marker='o', linestyle='', ms=12, label=name)\n",
    "\n",
    "# Draw the unclassified data point\n",
    "ax.plot(point_want_to_classify[0], point_want_to_classify[1], marker='o', linestyle='', ms=12)\n",
    "\n",
    "# Setting the limit of x and y axis\n",
    "axes = plt.gca()\n",
    "axes.set_xlim([0,1])\n",
    "axes.set_ylim([0,1])\n",
    "plt.title('Classified as : ' + str(classified_class) )\n",
    "plt.xlabel('X')\n",
    "plt.ylabel('Y')\n",
    "\n",
    "plt.grid()\n",
    "plt.show()"
   ]
  }
 ],
 "metadata": {
  "kernelspec": {
   "display_name": "Python 3 (ipykernel)",
   "language": "python",
   "name": "python3"
  },
  "language_info": {
   "codemirror_mode": {
    "name": "ipython",
    "version": 3
   },
   "file_extension": ".py",
   "mimetype": "text/x-python",
   "name": "python",
   "nbconvert_exporter": "python",
   "pygments_lexer": "ipython3",
   "version": "3.9.6"
  }
 },
 "nbformat": 4,
 "nbformat_minor": 5
}
