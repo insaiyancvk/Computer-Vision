{
 "cells": [
  {
   "cell_type": "markdown",
   "metadata": {},
   "source": [
    "# 1. Import Dependencies"
   ]
  },
  {
   "cell_type": "code",
   "execution_count": 1,
   "metadata": {},
   "outputs": [
    {
     "name": "stdout",
     "output_type": "stream",
     "text": [
      "Requirement already satisfied: opencv-python in d:\\coding\\myrepos\\computer-vision\\env\\lib\\site-packages (4.5.2.54)\n",
      "Requirement already satisfied: numpy>=1.19.3 in d:\\coding\\myrepos\\computer-vision\\env\\lib\\site-packages (from opencv-python) (1.21.0)\n"
     ]
    }
   ],
   "source": [
    "!pip install opencv-python"
   ]
  },
  {
   "cell_type": "code",
   "execution_count": 1,
   "metadata": {},
   "outputs": [],
   "source": [
    "# Import opencv\n",
    "import cv2 \n",
    "\n",
    "# Import uuid\n",
    "import uuid\n",
    "\n",
    "# Import Operating System\n",
    "import os\n",
    "\n",
    "# Import time\n",
    "import time"
   ]
  },
  {
   "cell_type": "markdown",
   "metadata": {},
   "source": [
    "# 2. Define Images to Collect"
   ]
  },
  {
   "cell_type": "code",
   "execution_count": 3,
   "metadata": {},
   "outputs": [],
   "source": [
    "labels = ['thumbsup', 'thumbsdown', 'thankyou', 'livelong']\n",
    "number_imgs = 25"
   ]
  },
  {
   "cell_type": "markdown",
   "metadata": {},
   "source": [
    "# 3. Setup Folders "
   ]
  },
  {
   "cell_type": "code",
   "execution_count": 4,
   "metadata": {},
   "outputs": [],
   "source": [
    "IMAGES_PATH = os.path.join('Tensorflow', 'workspace', 'images', 'collectedimages')"
   ]
  },
  {
   "cell_type": "code",
   "execution_count": 5,
   "metadata": {},
   "outputs": [
    {
     "data": {
      "text/plain": [
       "'Tensorflow\\\\workspace\\\\images\\\\collectedimages'"
      ]
     },
     "execution_count": 5,
     "metadata": {},
     "output_type": "execute_result"
    }
   ],
   "source": [
    "IMAGES_PATH"
   ]
  },
  {
   "cell_type": "code",
   "execution_count": 6,
   "metadata": {},
   "outputs": [],
   "source": [
    "if not os.path.exists(IMAGES_PATH):\n",
    "    if os.name == 'posix':\n",
    "        !mkdir -p {IMAGES_PATH}\n",
    "    if os.name == 'nt':\n",
    "         !mkdir {IMAGES_PATH}\n",
    "for label in labels:\n",
    "    path = os.path.join(IMAGES_PATH, label)\n",
    "    if not os.path.exists(path):\n",
    "        !mkdir {path}"
   ]
  },
  {
   "cell_type": "markdown",
   "metadata": {},
   "source": [
    "# 4. Capture Images"
   ]
  },
  {
   "cell_type": "code",
   "execution_count": 7,
   "metadata": {
    "collapsed": true
   },
   "outputs": [
    {
     "name": "stdout",
     "output_type": "stream",
     "text": [
      "Collecting images for thumbsup\n",
      "Collecting image 0\n",
      "Collecting image 1\n",
      "Collecting image 2\n",
      "Collecting image 3\n",
      "Collecting image 4\n",
      "Collecting image 5\n",
      "Collecting image 6\n",
      "Collecting image 7\n",
      "Collecting image 8\n",
      "Collecting image 9\n",
      "Collecting image 10\n",
      "Collecting image 11\n",
      "Collecting image 12\n",
      "Collecting image 13\n",
      "Collecting image 14\n",
      "Collecting image 15\n",
      "Collecting image 16\n",
      "Collecting image 17\n",
      "Collecting image 18\n",
      "Collecting image 19\n",
      "Collecting image 20\n",
      "Collecting image 21\n",
      "Collecting image 22\n",
      "Collecting image 23\n",
      "Collecting image 24\n",
      "Collecting images for thumbsdown\n",
      "Collecting image 0\n",
      "Collecting image 1\n",
      "Collecting image 2\n",
      "Collecting image 3\n",
      "Collecting image 4\n",
      "Collecting image 5\n",
      "Collecting image 6\n",
      "Collecting image 7\n",
      "Collecting image 8\n",
      "Collecting image 9\n",
      "Collecting image 10\n",
      "Collecting image 11\n",
      "Collecting image 12\n",
      "Collecting image 13\n",
      "Collecting image 14\n",
      "Collecting image 15\n",
      "Collecting image 16\n",
      "Collecting image 17\n",
      "Collecting image 18\n",
      "Collecting image 19\n",
      "Collecting image 20\n",
      "Collecting image 21\n",
      "Collecting image 22\n",
      "Collecting image 23\n",
      "Collecting image 24\n",
      "Collecting images for thankyou\n",
      "Collecting image 0\n",
      "Collecting image 1\n",
      "Collecting image 2\n",
      "Collecting image 3\n",
      "Collecting image 4\n",
      "Collecting image 5\n",
      "Collecting image 6\n",
      "Collecting image 7\n",
      "Collecting image 8\n",
      "Collecting image 9\n",
      "Collecting image 10\n",
      "Collecting image 11\n",
      "Collecting image 12\n",
      "Collecting image 13\n",
      "Collecting image 14\n",
      "Collecting image 15\n",
      "Collecting image 16\n",
      "Collecting image 17\n",
      "Collecting image 18\n",
      "Collecting image 19\n",
      "Collecting image 20\n",
      "Collecting image 21\n",
      "Collecting image 22\n",
      "Collecting image 23\n",
      "Collecting image 24\n",
      "Collecting images for livelong\n",
      "Collecting image 0\n",
      "Collecting image 1\n",
      "Collecting image 2\n",
      "Collecting image 3\n",
      "Collecting image 4\n",
      "Collecting image 5\n",
      "Collecting image 6\n",
      "Collecting image 7\n",
      "Collecting image 8\n",
      "Collecting image 9\n",
      "Collecting image 10\n",
      "Collecting image 11\n",
      "Collecting image 12\n",
      "Collecting image 13\n",
      "Collecting image 14\n",
      "Collecting image 15\n",
      "Collecting image 16\n",
      "Collecting image 17\n",
      "Collecting image 18\n",
      "Collecting image 19\n",
      "Collecting image 20\n",
      "Collecting image 21\n",
      "Collecting image 22\n",
      "Collecting image 23\n",
      "Collecting image 24\n"
     ]
    }
   ],
   "source": [
    "for label in labels:\n",
    "    cap = cv2.VideoCapture('http://192.168.1.5:8080/video')\n",
    "    print('Collecting images for {}'.format(label))\n",
    "    time.sleep(5)\n",
    "    for imgnum in range(number_imgs):\n",
    "        print('Collecting image {}'.format(imgnum))\n",
    "        ret, frame = cap.read()\n",
    "        imgname = os.path.join(IMAGES_PATH,label,label+'.'+'{}.jpg'.format(str(uuid.uuid1())))\n",
    "        cv2.imwrite(imgname, frame)\n",
    "        cv2.imshow('frame', frame)\n",
    "        time.sleep(2)\n",
    "\n",
    "        if cv2.waitKey(1) & 0xFF == ord('q'):\n",
    "            break\n",
    "cap.release()\n",
    "cv2.destroyAllWindows()"
   ]
  },
  {
   "cell_type": "markdown",
   "metadata": {},
   "source": [
    "# 5. Image Labelling"
   ]
  },
  {
   "cell_type": "code",
   "execution_count": 14,
   "metadata": {
    "collapsed": true
   },
   "outputs": [
    {
     "name": "stdout",
     "output_type": "stream",
     "text": [
      "Package                       Version\n",
      "----------------------------- -------------------\n",
      "argon2-cffi                   20.1.0\n",
      "async-generator               1.10\n",
      "attrs                         21.2.0\n",
      "backcall                      0.2.0\n",
      "backports.functools-lru-cache 1.6.4\n",
      "bleach                        3.3.0\n",
      "certifi                       2021.5.30\n",
      "cffi                          1.14.5\n",
      "colorama                      0.4.4\n",
      "debugpy                       1.3.0\n",
      "decorator                     5.0.9\n",
      "defusedxml                    0.7.1\n",
      "entrypoints                   0.3\n",
      "importlib-metadata            4.6.0\n",
      "ipykernel                     6.0.1\n",
      "ipython                       7.25.0\n",
      "ipython-genutils              0.2.0\n",
      "jedi                          0.18.0\n",
      "Jinja2                        3.0.1\n",
      "jsonschema                    3.2.0\n",
      "jupyter-client                6.1.12\n",
      "jupyter-core                  4.7.1\n",
      "jupyterlab-pygments           0.1.2\n",
      "lxml                          4.6.3\n",
      "MarkupSafe                    2.0.1\n",
      "matplotlib-inline             0.1.2\n",
      "mistune                       0.8.4\n",
      "nbclient                      0.5.3\n",
      "nbconvert                     6.1.0\n",
      "nbformat                      5.1.3\n",
      "nest-asyncio                  1.5.1\n",
      "notebook                      6.4.0\n",
      "numpy                         1.21.0\n",
      "opencv-python                 4.5.2.54\n",
      "packaging                     21.0\n",
      "pandocfilters                 1.4.2\n",
      "parso                         0.8.2\n",
      "pickleshare                   0.7.5\n",
      "pip                           21.1.3\n",
      "prometheus-client             0.11.0\n",
      "prompt-toolkit                3.0.19\n",
      "pycparser                     2.20\n",
      "Pygments                      2.9.0\n",
      "pyparsing                     2.4.7\n",
      "PyQt5                         5.15.4\n",
      "PyQt5-Qt5                     5.15.2\n",
      "PyQt5-sip                     12.9.0\n",
      "pyrsistent                    0.17.3\n",
      "python-dateutil               2.8.1\n",
      "pywin32                       300\n",
      "pywinpty                      1.1.3\n",
      "pyzmq                         22.1.0\n",
      "Send2Trash                    1.7.1\n",
      "setuptools                    49.6.0.post20210108\n",
      "six                           1.16.0\n",
      "terminado                     0.10.1\n",
      "testpath                      0.5.0\n",
      "tornado                       6.1\n",
      "traitlets                     5.0.5\n",
      "wcwidth                       0.2.5\n",
      "webencodings                  0.5.1\n",
      "wheel                         0.36.2\n",
      "wincertstore                  0.2\n",
      "zipp                          3.5.0\n"
     ]
    }
   ],
   "source": [
    "!pip list"
   ]
  },
  {
   "cell_type": "code",
   "execution_count": 13,
   "metadata": {
    "collapsed": true
   },
   "outputs": [
    {
     "name": "stdout",
     "output_type": "stream",
     "text": [
      "Collecting pyqt5\n",
      "  Downloading PyQt5-5.15.4-cp36.cp37.cp38.cp39-none-win_amd64.whl (6.8 MB)\n",
      "Collecting lxml\n",
      "  Downloading lxml-4.6.3-cp39-cp39-win_amd64.whl (3.5 MB)\n",
      "Collecting PyQt5-Qt5>=5.15\n",
      "  Downloading PyQt5_Qt5-5.15.2-py3-none-win_amd64.whl (50.1 MB)\n",
      "Collecting PyQt5-sip<13,>=12.8\n",
      "  Downloading PyQt5_sip-12.9.0-cp39-cp39-win_amd64.whl (63 kB)\n",
      "Installing collected packages: PyQt5-sip, PyQt5-Qt5, pyqt5, lxml\n",
      "Successfully installed PyQt5-Qt5-5.15.2 PyQt5-sip-12.9.0 lxml-4.6.3 pyqt5-5.15.4\n"
     ]
    }
   ],
   "source": [
    "!pip install --upgrade pyqt5 lxml"
   ]
  },
  {
   "cell_type": "code",
   "execution_count": 16,
   "metadata": {},
   "outputs": [],
   "source": [
    "LABELIMG_PATH = os.path.join('Tensorflow', 'labelimg')"
   ]
  },
  {
   "cell_type": "code",
   "execution_count": 17,
   "metadata": {},
   "outputs": [
    {
     "name": "stderr",
     "output_type": "stream",
     "text": [
      "Cloning into 'Tensorflow\\labelimg'...\n"
     ]
    }
   ],
   "source": [
    "if not os.path.exists(LABELIMG_PATH):\n",
    "    !mkdir {LABELIMG_PATH}\n",
    "    !git clone https://github.com/tzutalin/labelImg {LABELIMG_PATH}"
   ]
  },
  {
   "cell_type": "code",
   "execution_count": 18,
   "metadata": {},
   "outputs": [],
   "source": [
    "if os.name == 'posix':\n",
    "    !make qt5py3\n",
    "if os.name =='nt':\n",
    "    !cd {LABELIMG_PATH} && pyrcc5 -o libs/resources.py resources.qrc"
   ]
  },
  {
   "cell_type": "code",
   "execution_count": 19,
   "metadata": {},
   "outputs": [
    {
     "name": "stdout",
     "output_type": "stream",
     "text": [
      "Image:D:\\Coding\\myrepos\\Computer-Vision\\Tensorflow\\workspace\\images\\collectedimages\\livelong\\livelong.0b13d8e9-dcbf-11eb-8cbd-04d4c47e1dbd.jpg -> Annotation:D:/Coding/myrepos/Computer-Vision/Tensorflow/workspace/images/collectedimages/livelong/livelong.0b13d8e9-dcbf-11eb-8cbd-04d4c47e1dbd.xml\n",
      "Image:D:\\Coding\\myrepos\\Computer-Vision\\Tensorflow\\workspace\\images\\collectedimages\\livelong\\livelong.0c5c0dc9-dcbf-11eb-8a9a-04d4c47e1dbd.jpg -> Annotation:D:/Coding/myrepos/Computer-Vision/Tensorflow/workspace/images/collectedimages/livelong/livelong.0c5c0dc9-dcbf-11eb-8a9a-04d4c47e1dbd.xml\n",
      "Image:D:\\Coding\\myrepos\\Computer-Vision\\Tensorflow\\workspace\\images\\collectedimages\\livelong\\livelong.0da47f60-dcbf-11eb-9bd3-04d4c47e1dbd.jpg -> Annotation:D:/Coding/myrepos/Computer-Vision/Tensorflow/workspace/images/collectedimages/livelong/livelong.0da47f60-dcbf-11eb-9bd3-04d4c47e1dbd.xml\n",
      "Image:D:\\Coding\\myrepos\\Computer-Vision\\Tensorflow\\workspace\\images\\collectedimages\\livelong\\livelong.0eece581-dcbf-11eb-96dd-04d4c47e1dbd.jpg -> Annotation:D:/Coding/myrepos/Computer-Vision/Tensorflow/workspace/images/collectedimages/livelong/livelong.0eece581-dcbf-11eb-96dd-04d4c47e1dbd.xml\n",
      "Image:D:\\Coding\\myrepos\\Computer-Vision\\Tensorflow\\workspace\\images\\collectedimages\\livelong\\livelong.1a72b987-dcbf-11eb-8831-04d4c47e1dbd.jpg -> Annotation:D:/Coding/myrepos/Computer-Vision/Tensorflow/workspace/images/collectedimages/livelong/livelong.1a72b987-dcbf-11eb-8831-04d4c47e1dbd.xml\n",
      "Image:D:\\Coding\\myrepos\\Computer-Vision\\Tensorflow\\workspace\\images\\collectedimages\\livelong\\livelong.1bba49fa-dcbf-11eb-a05e-04d4c47e1dbd.jpg -> Annotation:D:/Coding/myrepos/Computer-Vision/Tensorflow/workspace/images/collectedimages/livelong/livelong.1bba49fa-dcbf-11eb-a05e-04d4c47e1dbd.xml\n",
      "Image:D:\\Coding\\myrepos\\Computer-Vision\\Tensorflow\\workspace\\images\\collectedimages\\livelong\\livelong.1d01af1e-dcbf-11eb-89ec-04d4c47e1dbd.jpg -> Annotation:D:/Coding/myrepos/Computer-Vision/Tensorflow/workspace/images/collectedimages/livelong/livelong.1d01af1e-dcbf-11eb-89ec-04d4c47e1dbd.xml\n",
      "Image:D:\\Coding\\myrepos\\Computer-Vision\\Tensorflow\\workspace\\images\\collectedimages\\livelong\\livelong.1e4a07db-dcbf-11eb-9dab-04d4c47e1dbd.jpg -> Annotation:D:/Coding/myrepos/Computer-Vision/Tensorflow/workspace/images/collectedimages/livelong/livelong.1e4a07db-dcbf-11eb-9dab-04d4c47e1dbd.xml\n",
      "Image:D:\\Coding\\myrepos\\Computer-Vision\\Tensorflow\\workspace\\images\\collectedimages\\livelong\\livelong.1f903d68-dcbf-11eb-989c-04d4c47e1dbd.jpg -> Annotation:D:/Coding/myrepos/Computer-Vision/Tensorflow/workspace/images/collectedimages/livelong/livelong.1f903d68-dcbf-11eb-989c-04d4c47e1dbd.xml\n",
      "Image:D:\\Coding\\myrepos\\Computer-Vision\\Tensorflow\\workspace\\images\\collectedimages\\livelong\\livelong.09cd4f5c-dcbf-11eb-b97f-04d4c47e1dbd.jpg -> Annotation:D:/Coding/myrepos/Computer-Vision/Tensorflow/workspace/images/collectedimages/livelong/livelong.09cd4f5c-dcbf-11eb-b97f-04d4c47e1dbd.xml\n",
      "Image:D:\\Coding\\myrepos\\Computer-Vision\\Tensorflow\\workspace\\images\\collectedimages\\livelong\\livelong.12c2f883-dcbf-11eb-b2f4-04d4c47e1dbd.jpg -> Annotation:D:/Coding/myrepos/Computer-Vision/Tensorflow/workspace/images/collectedimages/livelong/livelong.12c2f883-dcbf-11eb-b2f4-04d4c47e1dbd.xml\n"
     ]
    },
    {
     "name": "stderr",
     "output_type": "stream",
     "text": [
      "D:\\Coding\\myrepos\\Computer-Vision\\Tensorflow\\labelimg\\labelImg.py:965: DeprecationWarning: an integer is required (got type float).  Implicit conversion to integers using __int__ is deprecated, and may be removed in a future version of Python.\n",
      "  bar.setValue(bar.value() + bar.singleStep() * units)\n",
      "D:\\Coding\\myrepos\\Computer-Vision\\Tensorflow\\labelimg\\labelImg.py:971: DeprecationWarning: an integer is required (got type float).  Implicit conversion to integers using __int__ is deprecated, and may be removed in a future version of Python.\n",
      "  self.zoom_widget.setValue(value)\n",
      "D:\\Coding\\myrepos\\Computer-Vision\\Tensorflow\\labelimg\\labelImg.py:1025: DeprecationWarning: an integer is required (got type float).  Implicit conversion to integers using __int__ is deprecated, and may be removed in a future version of Python.\n",
      "  h_bar.setValue(new_h_bar_value)\n",
      "D:\\Coding\\myrepos\\Computer-Vision\\Tensorflow\\labelimg\\labelImg.py:1026: DeprecationWarning: an integer is required (got type float).  Implicit conversion to integers using __int__ is deprecated, and may be removed in a future version of Python.\n",
      "  v_bar.setValue(new_v_bar_value)\n"
     ]
    },
    {
     "name": "stdout",
     "output_type": "stream",
     "text": [
      "Image:D:\\Coding\\myrepos\\Computer-Vision\\Tensorflow\\workspace\\images\\collectedimages\\livelong\\livelong.17e29d02-dcbf-11eb-a7bc-04d4c47e1dbd.jpg -> Annotation:D:/Coding/myrepos/Computer-Vision/Tensorflow/workspace/images/collectedimages/livelong/livelong.17e29d02-dcbf-11eb-a7bc-04d4c47e1dbd.xml\n",
      "Image:D:\\Coding\\myrepos\\Computer-Vision\\Tensorflow\\workspace\\images\\collectedimages\\livelong\\livelong.20d6da5b-dcbf-11eb-b11d-04d4c47e1dbd.jpg -> Annotation:D:/Coding/myrepos/Computer-Vision/Tensorflow/workspace/images/collectedimages/livelong/livelong.20d6da5b-dcbf-11eb-b11d-04d4c47e1dbd.xml\n",
      "Image:D:\\Coding\\myrepos\\Computer-Vision\\Tensorflow\\workspace\\images\\collectedimages\\livelong\\livelong.117bcd87-dcbf-11eb-b101-04d4c47e1dbd.jpg -> Annotation:D:/Coding/myrepos/Computer-Vision/Tensorflow/workspace/images/collectedimages/livelong/livelong.117bcd87-dcbf-11eb-b101-04d4c47e1dbd.xml\n",
      "Image:D:\\Coding\\myrepos\\Computer-Vision\\Tensorflow\\workspace\\images\\collectedimages\\livelong\\livelong.192a8149-dcbf-11eb-ab96-04d4c47e1dbd.jpg -> Annotation:D:/Coding/myrepos/Computer-Vision/Tensorflow/workspace/images/collectedimages/livelong/livelong.192a8149-dcbf-11eb-ab96-04d4c47e1dbd.xml\n",
      "Image:D:\\Coding\\myrepos\\Computer-Vision\\Tensorflow\\workspace\\images\\collectedimages\\livelong\\livelong.221e4272-dcbf-11eb-bb33-04d4c47e1dbd.jpg -> Annotation:D:/Coding/myrepos/Computer-Vision/Tensorflow/workspace/images/collectedimages/livelong/livelong.221e4272-dcbf-11eb-bb33-04d4c47e1dbd.xml\n",
      "Image:D:\\Coding\\myrepos\\Computer-Vision\\Tensorflow\\workspace\\images\\collectedimages\\livelong\\livelong.1409c738-dcbf-11eb-a9f4-04d4c47e1dbd.jpg -> Annotation:D:/Coding/myrepos/Computer-Vision/Tensorflow/workspace/images/collectedimages/livelong/livelong.1409c738-dcbf-11eb-a9f4-04d4c47e1dbd.xml\n",
      "Image:D:\\Coding\\myrepos\\Computer-Vision\\Tensorflow\\workspace\\images\\collectedimages\\livelong\\livelong.1552ad3e-dcbf-11eb-bd83-04d4c47e1dbd.jpg -> Annotation:D:/Coding/myrepos/Computer-Vision/Tensorflow/workspace/images/collectedimages/livelong/livelong.1552ad3e-dcbf-11eb-bd83-04d4c47e1dbd.xml\n",
      "Image:D:\\Coding\\myrepos\\Computer-Vision\\Tensorflow\\workspace\\images\\collectedimages\\livelong\\livelong.1699fb8f-dcbf-11eb-bfce-04d4c47e1dbd.jpg -> Annotation:D:/Coding/myrepos/Computer-Vision/Tensorflow/workspace/images/collectedimages/livelong/livelong.1699fb8f-dcbf-11eb-bfce-04d4c47e1dbd.xml\n",
      "Image:D:\\Coding\\myrepos\\Computer-Vision\\Tensorflow\\workspace\\images\\collectedimages\\livelong\\livelong.2364e14d-dcbf-11eb-815e-04d4c47e1dbd.jpg -> Annotation:D:/Coding/myrepos/Computer-Vision/Tensorflow/workspace/images/collectedimages/livelong/livelong.2364e14d-dcbf-11eb-815e-04d4c47e1dbd.xml\n",
      "Image:D:\\Coding\\myrepos\\Computer-Vision\\Tensorflow\\workspace\\images\\collectedimages\\livelong\\livelong.08863c27-dcbf-11eb-9c2e-04d4c47e1dbd.jpg -> Annotation:D:/Coding/myrepos/Computer-Vision/Tensorflow/workspace/images/collectedimages/livelong/livelong.08863c27-dcbf-11eb-9c2e-04d4c47e1dbd.xml\n",
      "Image:D:\\Coding\\myrepos\\Computer-Vision\\Tensorflow\\workspace\\images\\collectedimages\\livelong\\livelong.10350f76-dcbf-11eb-a42f-04d4c47e1dbd.jpg -> Annotation:D:/Coding/myrepos/Computer-Vision/Tensorflow/workspace/images/collectedimages/livelong/livelong.10350f76-dcbf-11eb-a42f-04d4c47e1dbd.xml\n",
      "Image:D:\\Coding\\myrepos\\Computer-Vision\\Tensorflow\\workspace\\images\\collectedimages\\thankyou\\livelong.05f6e938-dcbf-11eb-874e-04d4c47e1dbd.jpg -> Annotation:D:/Coding/myrepos/Computer-Vision/Tensorflow/workspace/images/collectedimages/thankyou/livelong.05f6e938-dcbf-11eb-874e-04d4c47e1dbd.xml\n",
      "Image:D:\\Coding\\myrepos\\Computer-Vision\\Tensorflow\\workspace\\images\\collectedimages\\thankyou\\thankyou.0027f4df-dcbf-11eb-b0e1-04d4c47e1dbd.jpg -> Annotation:D:/Coding/myrepos/Computer-Vision/Tensorflow/workspace/images/collectedimages/thankyou/thankyou.0027f4df-dcbf-11eb-b0e1-04d4c47e1dbd.xml\n",
      "Image:D:\\Coding\\myrepos\\Computer-Vision\\Tensorflow\\workspace\\images\\collectedimages\\thankyou\\thankyou.073f20b3-dcbf-11eb-a805-04d4c47e1dbd.jpg -> Annotation:D:/Coding/myrepos/Computer-Vision/Tensorflow/workspace/images/collectedimages/thankyou/thankyou.073f20b3-dcbf-11eb-a805-04d4c47e1dbd.xml\n",
      "Image:D:\\Coding\\myrepos\\Computer-Vision\\Tensorflow\\workspace\\images\\collectedimages\\thankyou\\thankyou.0481a128-dcbf-11eb-bd76-04d4c47e1dbd.jpg -> Annotation:D:/Coding/myrepos/Computer-Vision/Tensorflow/workspace/images/collectedimages/thankyou/thankyou.0481a128-dcbf-11eb-bd76-04d4c47e1dbd.xml\n",
      "Image:D:\\Coding\\myrepos\\Computer-Vision\\Tensorflow\\workspace\\images\\collectedimages\\thankyou\\thankyou.e8b04ab8-dcbe-11eb-bd1d-04d4c47e1dbd.jpg -> Annotation:D:/Coding/myrepos/Computer-Vision/Tensorflow/workspace/images/collectedimages/thankyou/thankyou.e8b04ab8-dcbe-11eb-bd1d-04d4c47e1dbd.xml\n",
      "Image:D:\\Coding\\myrepos\\Computer-Vision\\Tensorflow\\workspace\\images\\collectedimages\\thankyou\\thankyou.e60f3dd3-dcbe-11eb-9ab0-04d4c47e1dbd.jpg -> Annotation:D:/Coding/myrepos/Computer-Vision/Tensorflow/workspace/images/collectedimages/thankyou/thankyou.e60f3dd3-dcbe-11eb-9ab0-04d4c47e1dbd.xml\n",
      "Image:D:\\Coding\\myrepos\\Computer-Vision\\Tensorflow\\workspace\\images\\collectedimages\\thankyou\\thankyou.e763656a-dcbe-11eb-a252-04d4c47e1dbd.jpg -> Annotation:D:/Coding/myrepos/Computer-Vision/Tensorflow/workspace/images/collectedimages/thankyou/thankyou.e763656a-dcbe-11eb-a252-04d4c47e1dbd.xml\n",
      "Image:D:\\Coding\\myrepos\\Computer-Vision\\Tensorflow\\workspace\\images\\collectedimages\\thankyou\\thankyou.ea049adf-dcbe-11eb-b9bc-04d4c47e1dbd.jpg -> Annotation:D:/Coding/myrepos/Computer-Vision/Tensorflow/workspace/images/collectedimages/thankyou/thankyou.ea049adf-dcbe-11eb-b9bc-04d4c47e1dbd.xml\n",
      "Image:D:\\Coding\\myrepos\\Computer-Vision\\Tensorflow\\workspace\\images\\collectedimages\\thankyou\\thankyou.eb50ca7b-dcbe-11eb-a35d-04d4c47e1dbd.jpg -> Annotation:D:/Coding/myrepos/Computer-Vision/Tensorflow/workspace/images/collectedimages/thankyou/thankyou.eb50ca7b-dcbe-11eb-a35d-04d4c47e1dbd.xml\n",
      "Image:D:\\Coding\\myrepos\\Computer-Vision\\Tensorflow\\workspace\\images\\collectedimages\\thankyou\\thankyou.ec9e9efa-dcbe-11eb-8b3b-04d4c47e1dbd.jpg -> Annotation:D:/Coding/myrepos/Computer-Vision/Tensorflow/workspace/images/collectedimages/thankyou/thankyou.ec9e9efa-dcbe-11eb-8b3b-04d4c47e1dbd.xml\n",
      "Image:D:\\Coding\\myrepos\\Computer-Vision\\Tensorflow\\workspace\\images\\collectedimages\\thankyou\\thankyou.edfb020f-dcbe-11eb-8e12-04d4c47e1dbd.jpg -> Annotation:D:/Coding/myrepos/Computer-Vision/Tensorflow/workspace/images/collectedimages/thankyou/thankyou.edfb020f-dcbe-11eb-8e12-04d4c47e1dbd.xml\n",
      "Image:D:\\Coding\\myrepos\\Computer-Vision\\Tensorflow\\workspace\\images\\collectedimages\\thankyou\\thankyou.ef46cb24-dcbe-11eb-8c9b-04d4c47e1dbd.jpg -> Annotation:D:/Coding/myrepos/Computer-Vision/Tensorflow/workspace/images/collectedimages/thankyou/thankyou.ef46cb24-dcbe-11eb-8c9b-04d4c47e1dbd.xml\n",
      "Image:D:\\Coding\\myrepos\\Computer-Vision\\Tensorflow\\workspace\\images\\collectedimages\\thankyou\\thankyou.f0ad0101-dcbe-11eb-aa3c-04d4c47e1dbd.jpg -> Annotation:D:/Coding/myrepos/Computer-Vision/Tensorflow/workspace/images/collectedimages/thankyou/thankyou.f0ad0101-dcbe-11eb-aa3c-04d4c47e1dbd.xml\n",
      "Image:D:\\Coding\\myrepos\\Computer-Vision\\Tensorflow\\workspace\\images\\collectedimages\\thankyou\\thankyou.f5e5b667-dcbe-11eb-b604-04d4c47e1dbd.jpg -> Annotation:D:/Coding/myrepos/Computer-Vision/Tensorflow/workspace/images/collectedimages/thankyou/thankyou.f5e5b667-dcbe-11eb-b604-04d4c47e1dbd.xml\n",
      "Image:D:\\Coding\\myrepos\\Computer-Vision\\Tensorflow\\workspace\\images\\collectedimages\\thankyou\\thankyou.f9c193c3-dcbe-11eb-baf6-04d4c47e1dbd.jpg -> Annotation:D:/Coding/myrepos/Computer-Vision/Tensorflow/workspace/images/collectedimages/thankyou/thankyou.f9c193c3-dcbe-11eb-baf6-04d4c47e1dbd.xml\n",
      "Image:D:\\Coding\\myrepos\\Computer-Vision\\Tensorflow\\workspace\\images\\collectedimages\\thankyou\\thankyou.f496f6ef-dcbe-11eb-b0dc-04d4c47e1dbd.jpg -> Annotation:D:/Coding/myrepos/Computer-Vision/Tensorflow/workspace/images/collectedimages/thankyou/thankyou.f496f6ef-dcbe-11eb-b0dc-04d4c47e1dbd.xml\n",
      "Image:D:\\Coding\\myrepos\\Computer-Vision\\Tensorflow\\workspace\\images\\collectedimages\\thankyou\\thankyou.f87976cd-dcbe-11eb-8a80-04d4c47e1dbd.jpg -> Annotation:D:/Coding/myrepos/Computer-Vision/Tensorflow/workspace/images/collectedimages/thankyou/thankyou.f87976cd-dcbe-11eb-8a80-04d4c47e1dbd.xml\n",
      "Image:D:\\Coding\\myrepos\\Computer-Vision\\Tensorflow\\workspace\\images\\collectedimages\\thankyou\\thankyou.f3493679-dcbe-11eb-8249-04d4c47e1dbd.jpg -> Annotation:D:/Coding/myrepos/Computer-Vision/Tensorflow/workspace/images/collectedimages/thankyou/thankyou.f3493679-dcbe-11eb-8249-04d4c47e1dbd.xml\n",
      "Image:D:\\Coding\\myrepos\\Computer-Vision\\Tensorflow\\workspace\\images\\collectedimages\\thankyou\\thankyou.fb083ae0-dcbe-11eb-ba59-04d4c47e1dbd.jpg -> Annotation:D:/Coding/myrepos/Computer-Vision/Tensorflow/workspace/images/collectedimages/thankyou/thankyou.fb083ae0-dcbe-11eb-ba59-04d4c47e1dbd.xml\n",
      "Image:D:\\Coding\\myrepos\\Computer-Vision\\Tensorflow\\workspace\\images\\collectedimages\\thankyou\\thankyou.fc501f4a-dcbe-11eb-9fe9-04d4c47e1dbd.jpg -> Annotation:D:/Coding/myrepos/Computer-Vision/Tensorflow/workspace/images/collectedimages/thankyou/thankyou.fc501f4a-dcbe-11eb-9fe9-04d4c47e1dbd.xml\n",
      "Image:D:\\Coding\\myrepos\\Computer-Vision\\Tensorflow\\workspace\\images\\collectedimages\\thankyou\\thankyou.fd986bad-dcbe-11eb-8316-04d4c47e1dbd.jpg -> Annotation:D:/Coding/myrepos/Computer-Vision/Tensorflow/workspace/images/collectedimages/thankyou/thankyou.fd986bad-dcbe-11eb-8316-04d4c47e1dbd.xml\n",
      "Image:D:\\Coding\\myrepos\\Computer-Vision\\Tensorflow\\workspace\\images\\collectedimages\\thankyou\\thankyou.fedf4f34-dcbe-11eb-80a7-04d4c47e1dbd.jpg -> Annotation:D:/Coding/myrepos/Computer-Vision/Tensorflow/workspace/images/collectedimages/thankyou/thankyou.fedf4f34-dcbe-11eb-80a7-04d4c47e1dbd.xml\n",
      "Image:D:\\Coding\\myrepos\\Computer-Vision\\Tensorflow\\workspace\\images\\collectedimages\\thumbsdown\\thumbsdown.c6b9ca5e-dcbe-11eb-8e8c-04d4c47e1dbd.jpg -> Annotation:D:/Coding/myrepos/Computer-Vision/Tensorflow/workspace/images/collectedimages/thumbsdown/thumbsdown.c6b9ca5e-dcbe-11eb-8e8c-04d4c47e1dbd.xml\n",
      "Image:D:\\Coding\\myrepos\\Computer-Vision\\Tensorflow\\workspace\\images\\collectedimages\\thumbsdown\\thumbsdown.c6b9ca5e-dcbe-11eb-8e8c-04d4c47e1dbd.jpg -> Annotation:D:/Coding/myrepos/Computer-Vision/Tensorflow/workspace/images/collectedimages/thumbsdown/thumbsdown.c6b9ca5e-dcbe-11eb-8e8c-04d4c47e1dbd.xml\n",
      "Image:D:\\Coding\\myrepos\\Computer-Vision\\Tensorflow\\workspace\\images\\collectedimages\\thumbsdown\\thumbsdown.c801ee09-dcbe-11eb-8951-04d4c47e1dbd.jpg -> Annotation:D:/Coding/myrepos/Computer-Vision/Tensorflow/workspace/images/collectedimages/thumbsdown/thumbsdown.c801ee09-dcbe-11eb-8951-04d4c47e1dbd.xml\n",
      "Image:D:\\Coding\\myrepos\\Computer-Vision\\Tensorflow\\workspace\\images\\collectedimages\\thumbsdown\\thumbsdown.c9490552-dcbe-11eb-9c0c-04d4c47e1dbd.jpg -> Annotation:D:/Coding/myrepos/Computer-Vision/Tensorflow/workspace/images/collectedimages/thumbsdown/thumbsdown.c9490552-dcbe-11eb-9c0c-04d4c47e1dbd.xml\n",
      "Image:D:\\Coding\\myrepos\\Computer-Vision\\Tensorflow\\workspace\\images\\collectedimages\\thumbsdown\\thumbsdown.ca8ff0a8-dcbe-11eb-b47e-04d4c47e1dbd.jpg -> Annotation:D:/Coding/myrepos/Computer-Vision/Tensorflow/workspace/images/collectedimages/thumbsdown/thumbsdown.ca8ff0a8-dcbe-11eb-b47e-04d4c47e1dbd.xml\n",
      "Image:D:\\Coding\\myrepos\\Computer-Vision\\Tensorflow\\workspace\\images\\collectedimages\\thumbsdown\\thumbsdown.cbd72230-dcbe-11eb-a3d3-04d4c47e1dbd.jpg -> Annotation:D:/Coding/myrepos/Computer-Vision/Tensorflow/workspace/images/collectedimages/thumbsdown/thumbsdown.cbd72230-dcbe-11eb-a3d3-04d4c47e1dbd.xml\n",
      "Image:D:\\Coding\\myrepos\\Computer-Vision\\Tensorflow\\workspace\\images\\collectedimages\\thumbsdown\\thumbsdown.cd1f9d60-dcbe-11eb-8716-04d4c47e1dbd.jpg -> Annotation:D:/Coding/myrepos/Computer-Vision/Tensorflow/workspace/images/collectedimages/thumbsdown/thumbsdown.cd1f9d60-dcbe-11eb-8716-04d4c47e1dbd.xml\n",
      "Image:D:\\Coding\\myrepos\\Computer-Vision\\Tensorflow\\workspace\\images\\collectedimages\\thumbsdown\\thumbsdown.ce66dd5d-dcbe-11eb-aaf2-04d4c47e1dbd.jpg -> Annotation:D:/Coding/myrepos/Computer-Vision/Tensorflow/workspace/images/collectedimages/thumbsdown/thumbsdown.ce66dd5d-dcbe-11eb-aaf2-04d4c47e1dbd.xml\n",
      "Image:D:\\Coding\\myrepos\\Computer-Vision\\Tensorflow\\workspace\\images\\collectedimages\\thumbsdown\\thumbsdown.cfadaf5d-dcbe-11eb-b83b-04d4c47e1dbd.jpg -> Annotation:D:/Coding/myrepos/Computer-Vision/Tensorflow/workspace/images/collectedimages/thumbsdown/thumbsdown.cfadaf5d-dcbe-11eb-b83b-04d4c47e1dbd.xml\n",
      "Image:D:\\Coding\\myrepos\\Computer-Vision\\Tensorflow\\workspace\\images\\collectedimages\\thumbsdown\\thumbsdown.d0f4ab21-dcbe-11eb-91e9-04d4c47e1dbd.jpg -> Annotation:D:/Coding/myrepos/Computer-Vision/Tensorflow/workspace/images/collectedimages/thumbsdown/thumbsdown.d0f4ab21-dcbe-11eb-91e9-04d4c47e1dbd.xml\n",
      "Image:D:\\Coding\\myrepos\\Computer-Vision\\Tensorflow\\workspace\\images\\collectedimages\\thumbsdown\\thumbsdown.d4cc0998-dcbe-11eb-9818-04d4c47e1dbd.jpg -> Annotation:D:/Coding/myrepos/Computer-Vision/Tensorflow/workspace/images/collectedimages/thumbsdown/thumbsdown.d4cc0998-dcbe-11eb-9818-04d4c47e1dbd.xml\n",
      "Image:D:\\Coding\\myrepos\\Computer-Vision\\Tensorflow\\workspace\\images\\collectedimages\\thumbsdown\\thumbsdown.d8a322cd-dcbe-11eb-99d7-04d4c47e1dbd.jpg -> Annotation:D:/Coding/myrepos/Computer-Vision/Tensorflow/workspace/images/collectedimages/thumbsdown/thumbsdown.d8a322cd-dcbe-11eb-99d7-04d4c47e1dbd.xml\n",
      "Image:D:\\Coding\\myrepos\\Computer-Vision\\Tensorflow\\workspace\\images\\collectedimages\\thumbsdown\\thumbsdown.d9eaab86-dcbe-11eb-a79f-04d4c47e1dbd.jpg -> Annotation:D:/Coding/myrepos/Computer-Vision/Tensorflow/workspace/images/collectedimages/thumbsdown/thumbsdown.d9eaab86-dcbe-11eb-a79f-04d4c47e1dbd.xml\n",
      "Image:D:\\Coding\\myrepos\\Computer-Vision\\Tensorflow\\workspace\\images\\collectedimages\\thumbsdown\\thumbsdown.d23c192d-dcbe-11eb-bca7-04d4c47e1dbd.jpg -> Annotation:D:/Coding/myrepos/Computer-Vision/Tensorflow/workspace/images/collectedimages/thumbsdown/thumbsdown.d23c192d-dcbe-11eb-bca7-04d4c47e1dbd.xml\n",
      "Image:D:\\Coding\\myrepos\\Computer-Vision\\Tensorflow\\workspace\\images\\collectedimages\\thumbsdown\\thumbsdown.d75c606d-dcbe-11eb-8223-04d4c47e1dbd.jpg -> Annotation:D:/Coding/myrepos/Computer-Vision/Tensorflow/workspace/images/collectedimages/thumbsdown/thumbsdown.d75c606d-dcbe-11eb-8223-04d4c47e1dbd.xml\n",
      "Image:D:\\Coding\\myrepos\\Computer-Vision\\Tensorflow\\workspace\\images\\collectedimages\\thumbsdown\\thumbsdown.d3836ff0-dcbe-11eb-9c15-04d4c47e1dbd.jpg -> Annotation:D:/Coding/myrepos/Computer-Vision/Tensorflow/workspace/images/collectedimages/thumbsdown/thumbsdown.d3836ff0-dcbe-11eb-9c15-04d4c47e1dbd.xml\n",
      "Image:D:\\Coding\\myrepos\\Computer-Vision\\Tensorflow\\workspace\\images\\collectedimages\\thumbsdown\\thumbsdown.d6149823-dcbe-11eb-a095-04d4c47e1dbd.jpg -> Annotation:D:/Coding/myrepos/Computer-Vision/Tensorflow/workspace/images/collectedimages/thumbsdown/thumbsdown.d6149823-dcbe-11eb-a095-04d4c47e1dbd.xml\n",
      "Image:D:\\Coding\\myrepos\\Computer-Vision\\Tensorflow\\workspace\\images\\collectedimages\\thumbsdown\\thumbsdown.db31b3f1-dcbe-11eb-a7fd-04d4c47e1dbd.jpg -> Annotation:D:/Coding/myrepos/Computer-Vision/Tensorflow/workspace/images/collectedimages/thumbsdown/thumbsdown.db31b3f1-dcbe-11eb-a7fd-04d4c47e1dbd.xml\n",
      "Image:D:\\Coding\\myrepos\\Computer-Vision\\Tensorflow\\workspace\\images\\collectedimages\\thumbsdown\\thumbsdown.dc789adb-dcbe-11eb-b00a-04d4c47e1dbd.jpg -> Annotation:D:/Coding/myrepos/Computer-Vision/Tensorflow/workspace/images/collectedimages/thumbsdown/thumbsdown.dc789adb-dcbe-11eb-b00a-04d4c47e1dbd.xml\n",
      "Image:D:\\Coding\\myrepos\\Computer-Vision\\Tensorflow\\workspace\\images\\collectedimages\\thumbsdown\\thumbsdown.e0cd9646-dcbe-11eb-a2c0-04d4c47e1dbd.jpg -> Annotation:D:/Coding/myrepos/Computer-Vision/Tensorflow/workspace/images/collectedimages/thumbsdown/thumbsdown.e0cd9646-dcbe-11eb-a2c0-04d4c47e1dbd.xml\n",
      "Image:D:\\Coding\\myrepos\\Computer-Vision\\Tensorflow\\workspace\\images\\collectedimages\\thumbsdown\\thumbsdown.e4c3c6ff-dcbe-11eb-a149-04d4c47e1dbd.jpg -> Annotation:D:/Coding/myrepos/Computer-Vision/Tensorflow/workspace/images/collectedimages/thumbsdown/thumbsdown.e4c3c6ff-dcbe-11eb-a149-04d4c47e1dbd.xml\n",
      "Image:D:\\Coding\\myrepos\\Computer-Vision\\Tensorflow\\workspace\\images\\collectedimages\\thumbsdown\\thumbsdown.e36e5c57-dcbe-11eb-a574-04d4c47e1dbd.jpg -> Annotation:D:/Coding/myrepos/Computer-Vision/Tensorflow/workspace/images/collectedimages/thumbsdown/thumbsdown.e36e5c57-dcbe-11eb-a574-04d4c47e1dbd.xml\n",
      "Image:D:\\Coding\\myrepos\\Computer-Vision\\Tensorflow\\workspace\\images\\collectedimages\\thumbsdown\\thumbsdown.e222ee7a-dcbe-11eb-803f-04d4c47e1dbd.jpg -> Annotation:D:/Coding/myrepos/Computer-Vision/Tensorflow/workspace/images/collectedimages/thumbsdown/thumbsdown.e222ee7a-dcbe-11eb-803f-04d4c47e1dbd.xml\n",
      "Image:D:\\Coding\\myrepos\\Computer-Vision\\Tensorflow\\workspace\\images\\collectedimages\\thumbsup\\thumbsup.9fc73f8b-dcbe-11eb-b096-04d4c47e1dbd.jpg -> Annotation:D:/Coding/myrepos/Computer-Vision/Tensorflow/workspace/images/collectedimages/thumbsup/thumbsup.9fc73f8b-dcbe-11eb-b096-04d4c47e1dbd.xml\n",
      "Image:D:\\Coding\\myrepos\\Computer-Vision\\Tensorflow\\workspace\\images\\collectedimages\\thumbsup\\thumbsup.9fc73f8b-dcbe-11eb-b096-04d4c47e1dbd.jpg -> Annotation:D:/Coding/myrepos/Computer-Vision/Tensorflow/workspace/images/collectedimages/thumbsup/thumbsup.9fc73f8b-dcbe-11eb-b096-04d4c47e1dbd.xml\n",
      "Image:D:\\Coding\\myrepos\\Computer-Vision\\Tensorflow\\workspace\\images\\collectedimages\\thumbsup\\thumbsup.a4e5eb85-dcbe-11eb-9d69-04d4c47e1dbd.jpg -> Annotation:D:/Coding/myrepos/Computer-Vision/Tensorflow/workspace/images/collectedimages/thumbsup/thumbsup.a4e5eb85-dcbe-11eb-9d69-04d4c47e1dbd.xml\n",
      "Image:D:\\Coding\\myrepos\\Computer-Vision\\Tensorflow\\workspace\\images\\collectedimages\\thumbsup\\thumbsup.a8bc53ef-dcbe-11eb-b1ce-04d4c47e1dbd.jpg -> Annotation:D:/Coding/myrepos/Computer-Vision/Tensorflow/workspace/images/collectedimages/thumbsup/thumbsup.a8bc53ef-dcbe-11eb-b1ce-04d4c47e1dbd.xml\n",
      "Image:D:\\Coding\\myrepos\\Computer-Vision\\Tensorflow\\workspace\\images\\collectedimages\\thumbsup\\thumbsup.a10defd5-dcbe-11eb-961a-04d4c47e1dbd.jpg -> Annotation:D:/Coding/myrepos/Computer-Vision/Tensorflow/workspace/images/collectedimages/thumbsup/thumbsup.a10defd5-dcbe-11eb-961a-04d4c47e1dbd.xml\n",
      "Image:D:\\Coding\\myrepos\\Computer-Vision\\Tensorflow\\workspace\\images\\collectedimages\\thumbsup\\thumbsup.a39ca456-dcbe-11eb-94bb-04d4c47e1dbd.jpg -> Annotation:D:/Coding/myrepos/Computer-Vision/Tensorflow/workspace/images/collectedimages/thumbsup/thumbsup.a39ca456-dcbe-11eb-94bb-04d4c47e1dbd.xml\n",
      "Image:D:\\Coding\\myrepos\\Computer-Vision\\Tensorflow\\workspace\\images\\collectedimages\\thumbsup\\thumbsup.a62db212-dcbe-11eb-8f3c-04d4c47e1dbd.jpg -> Annotation:D:/Coding/myrepos/Computer-Vision/Tensorflow/workspace/images/collectedimages/thumbsup/thumbsup.a62db212-dcbe-11eb-8f3c-04d4c47e1dbd.xml\n",
      "Image:D:\\Coding\\myrepos\\Computer-Vision\\Tensorflow\\workspace\\images\\collectedimages\\thumbsup\\thumbsup.a2557a0f-dcbe-11eb-8961-04d4c47e1dbd.jpg -> Annotation:D:/Coding/myrepos/Computer-Vision/Tensorflow/workspace/images/collectedimages/thumbsup/thumbsup.a2557a0f-dcbe-11eb-8961-04d4c47e1dbd.xml\n",
      "Image:D:\\Coding\\myrepos\\Computer-Vision\\Tensorflow\\workspace\\images\\collectedimages\\thumbsup\\thumbsup.a7746015-dcbe-11eb-bf90-04d4c47e1dbd.jpg -> Annotation:D:/Coding/myrepos/Computer-Vision/Tensorflow/workspace/images/collectedimages/thumbsup/thumbsup.a7746015-dcbe-11eb-bf90-04d4c47e1dbd.xml\n",
      "Image:D:\\Coding\\myrepos\\Computer-Vision\\Tensorflow\\workspace\\images\\collectedimages\\thumbsup\\thumbsup.aa04383a-dcbe-11eb-805b-04d4c47e1dbd.jpg -> Annotation:D:/Coding/myrepos/Computer-Vision/Tensorflow/workspace/images/collectedimages/thumbsup/thumbsup.aa04383a-dcbe-11eb-805b-04d4c47e1dbd.xml\n",
      "Image:D:\\Coding\\myrepos\\Computer-Vision\\Tensorflow\\workspace\\images\\collectedimages\\thumbsup\\thumbsup.ab4c446f-dcbe-11eb-b4a9-04d4c47e1dbd.jpg -> Annotation:D:/Coding/myrepos/Computer-Vision/Tensorflow/workspace/images/collectedimages/thumbsup/thumbsup.ab4c446f-dcbe-11eb-b4a9-04d4c47e1dbd.xml\n",
      "Image:D:\\Coding\\myrepos\\Computer-Vision\\Tensorflow\\workspace\\images\\collectedimages\\thumbsup\\thumbsup.ac953d87-dcbe-11eb-a4aa-04d4c47e1dbd.jpg -> Annotation:D:/Coding/myrepos/Computer-Vision/Tensorflow/workspace/images/collectedimages/thumbsup/thumbsup.ac953d87-dcbe-11eb-a4aa-04d4c47e1dbd.xml\n",
      "Image:D:\\Coding\\myrepos\\Computer-Vision\\Tensorflow\\workspace\\images\\collectedimages\\thumbsup\\thumbsup.addd48a2-dcbe-11eb-9b4e-04d4c47e1dbd.jpg -> Annotation:D:/Coding/myrepos/Computer-Vision/Tensorflow/workspace/images/collectedimages/thumbsup/thumbsup.addd48a2-dcbe-11eb-9b4e-04d4c47e1dbd.xml\n",
      "Image:D:\\Coding\\myrepos\\Computer-Vision\\Tensorflow\\workspace\\images\\collectedimages\\thumbsup\\thumbsup.af24e12e-dcbe-11eb-8798-04d4c47e1dbd.jpg -> Annotation:D:/Coding/myrepos/Computer-Vision/Tensorflow/workspace/images/collectedimages/thumbsup/thumbsup.af24e12e-dcbe-11eb-8798-04d4c47e1dbd.xml\n",
      "Image:D:\\Coding\\myrepos\\Computer-Vision\\Tensorflow\\workspace\\images\\collectedimages\\thumbsup\\thumbsup.b1b5e154-dcbe-11eb-b3ca-04d4c47e1dbd.jpg -> Annotation:D:/Coding/myrepos/Computer-Vision/Tensorflow/workspace/images/collectedimages/thumbsup/thumbsup.b1b5e154-dcbe-11eb-b3ca-04d4c47e1dbd.xml\n",
      "Image:D:\\Coding\\myrepos\\Computer-Vision\\Tensorflow\\workspace\\images\\collectedimages\\thumbsup\\thumbsup.b2fca995-dcbe-11eb-b4c7-04d4c47e1dbd.jpg -> Annotation:D:/Coding/myrepos/Computer-Vision/Tensorflow/workspace/images/collectedimages/thumbsup/thumbsup.b2fca995-dcbe-11eb-b4c7-04d4c47e1dbd.xml\n",
      "Image:D:\\Coding\\myrepos\\Computer-Vision\\Tensorflow\\workspace\\images\\collectedimages\\thumbsup\\thumbsup.b6d3b1d1-dcbe-11eb-8c96-04d4c47e1dbd.jpg -> Annotation:D:/Coding/myrepos/Computer-Vision/Tensorflow/workspace/images/collectedimages/thumbsup/thumbsup.b6d3b1d1-dcbe-11eb-8c96-04d4c47e1dbd.xml\n",
      "Image:D:\\Coding\\myrepos\\Computer-Vision\\Tensorflow\\workspace\\images\\collectedimages\\thumbsup\\thumbsup.b06dd245-dcbe-11eb-abf2-04d4c47e1dbd.jpg -> Annotation:D:/Coding/myrepos/Computer-Vision/Tensorflow/workspace/images/collectedimages/thumbsup/thumbsup.b06dd245-dcbe-11eb-abf2-04d4c47e1dbd.xml\n",
      "Image:D:\\Coding\\myrepos\\Computer-Vision\\Tensorflow\\workspace\\images\\collectedimages\\thumbsup\\thumbsup.b58cc622-dcbe-11eb-8415-04d4c47e1dbd.jpg -> Annotation:D:/Coding/myrepos/Computer-Vision/Tensorflow/workspace/images/collectedimages/thumbsup/thumbsup.b58cc622-dcbe-11eb-8415-04d4c47e1dbd.xml\n",
      "Image:D:\\Coding\\myrepos\\Computer-Vision\\Tensorflow\\workspace\\images\\collectedimages\\thumbsup\\thumbsup.b81cc03b-dcbe-11eb-8b73-04d4c47e1dbd.jpg -> Annotation:D:/Coding/myrepos/Computer-Vision/Tensorflow/workspace/images/collectedimages/thumbsup/thumbsup.b81cc03b-dcbe-11eb-8b73-04d4c47e1dbd.xml\n",
      "Image:D:\\Coding\\myrepos\\Computer-Vision\\Tensorflow\\workspace\\images\\collectedimages\\thumbsup\\thumbsup.b44581ed-dcbe-11eb-b4ed-04d4c47e1dbd.jpg -> Annotation:D:/Coding/myrepos/Computer-Vision/Tensorflow/workspace/images/collectedimages/thumbsup/thumbsup.b44581ed-dcbe-11eb-b4ed-04d4c47e1dbd.xml\n",
      "Image:D:\\Coding\\myrepos\\Computer-Vision\\Tensorflow\\workspace\\images\\collectedimages\\thumbsup\\thumbsup.b96442b9-dcbe-11eb-a4af-04d4c47e1dbd.jpg -> Annotation:D:/Coding/myrepos/Computer-Vision/Tensorflow/workspace/images/collectedimages/thumbsup/thumbsup.b96442b9-dcbe-11eb-a4af-04d4c47e1dbd.xml\n",
      "Image:D:\\Coding\\myrepos\\Computer-Vision\\Tensorflow\\workspace\\images\\collectedimages\\thumbsup\\thumbsup.c427da46-dcbe-11eb-9723-04d4c47e1dbd.jpg -> Annotation:D:/Coding/myrepos/Computer-Vision/Tensorflow/workspace/images/collectedimages/thumbsup/thumbsup.c427da46-dcbe-11eb-9723-04d4c47e1dbd.xml\n",
      "Image:D:\\Coding\\myrepos\\Computer-Vision\\Tensorflow\\workspace\\images\\collectedimages\\thumbsup\\thumbsup.c572ab42-dcbe-11eb-8a86-04d4c47e1dbd.jpg -> Annotation:D:/Coding/myrepos/Computer-Vision/Tensorflow/workspace/images/collectedimages/thumbsup/thumbsup.c572ab42-dcbe-11eb-8a86-04d4c47e1dbd.xml\n",
      "Image:D:\\Coding\\myrepos\\Computer-Vision\\Tensorflow\\workspace\\images\\collectedimages\\thumbsup\\thumbsup.c1966483-dcbe-11eb-acc4-04d4c47e1dbd.jpg -> Annotation:D:/Coding/myrepos/Computer-Vision/Tensorflow/workspace/images/collectedimages/thumbsup/thumbsup.c1966483-dcbe-11eb-acc4-04d4c47e1dbd.xml\n"
     ]
    }
   ],
   "source": [
    "!cd {LABELIMG_PATH} && python labelImg.py"
   ]
  },
  {
   "cell_type": "markdown",
   "metadata": {},
   "source": [
    "# 6. Move them into a Training and Testing Partition"
   ]
  },
  {
   "cell_type": "markdown",
   "metadata": {},
   "source": [
    "# OPTIONAL - 7. Compress them for Colab Training"
   ]
  },
  {
   "cell_type": "code",
   "execution_count": 20,
   "metadata": {},
   "outputs": [],
   "source": [
    "TRAIN_PATH = os.path.join('Tensorflow', 'workspace', 'images', 'train')\n",
    "TEST_PATH = os.path.join('Tensorflow', 'workspace', 'images', 'test')\n",
    "ARCHIVE_PATH = os.path.join('Tensorflow', 'workspace', 'images', 'archive.tar.gz')"
   ]
  },
  {
   "cell_type": "code",
   "execution_count": 21,
   "metadata": {},
   "outputs": [],
   "source": [
    "!tar -czf {ARCHIVE_PATH} {TRAIN_PATH} {TEST_PATH}"
   ]
  },
  {
   "cell_type": "code",
   "execution_count": null,
   "metadata": {},
   "outputs": [],
   "source": []
  }
 ],
 "metadata": {
  "kernelspec": {
   "display_name": "cvenv",
   "language": "python",
   "name": "cvenv"
  },
  "language_info": {
   "codemirror_mode": {
    "name": "ipython",
    "version": 3
   },
   "file_extension": ".py",
   "mimetype": "text/x-python",
   "name": "python",
   "nbconvert_exporter": "python",
   "pygments_lexer": "ipython3",
   "version": "3.9.5"
  }
 },
 "nbformat": 4,
 "nbformat_minor": 2
}
